{
 "cells": [
  {
   "cell_type": "code",
   "execution_count": 2,
   "id": "79605d1e",
   "metadata": {},
   "outputs": [
    {
     "name": "stdout",
     "output_type": "stream",
     "text": [
      "Defaulting to user installation because normal site-packages is not writeable\n",
      "Processing ./src\n",
      "  Preparing metadata (setup.py) ... \u001b[?25ldone\n",
      "\u001b[?25hRequirement already satisfied: numpy in /home/jedrek/.local/lib/python3.8/site-packages (from analiza-zaleznosci==0.0.0) (1.23.5)\n",
      "Requirement already satisfied: pandas in /home/jedrek/.local/lib/python3.8/site-packages (from analiza-zaleznosci==0.0.0) (1.5.2)\n",
      "Requirement already satisfied: python-dateutil>=2.8.1 in /home/jedrek/.local/lib/python3.8/site-packages (from pandas->analiza-zaleznosci==0.0.0) (2.8.2)\n",
      "Requirement already satisfied: pytz>=2020.1 in /home/jedrek/.local/lib/python3.8/site-packages (from pandas->analiza-zaleznosci==0.0.0) (2022.6)\n",
      "Requirement already satisfied: six>=1.5 in /usr/lib/python3/dist-packages (from python-dateutil>=2.8.1->pandas->analiza-zaleznosci==0.0.0) (1.14.0)\n",
      "Building wheels for collected packages: analiza-zaleznosci\n",
      "  Building wheel for analiza-zaleznosci (setup.py) ... \u001b[?25ldone\n",
      "\u001b[?25h  Created wheel for analiza-zaleznosci: filename=analiza_zaleznosci-0.0.0-py3-none-any.whl size=3814 sha256=d07663793b2fc7e0cc6b245cc55fe7937362e5677aa61ab66c59a3bc20e66890\n",
      "  Stored in directory: /tmp/pip-ephem-wheel-cache-mkl4z_ar/wheels/84/c0/42/b3256a4c4b70ebf85ba1789232b5475126cfce3b823d2cf174\n",
      "Successfully built analiza-zaleznosci\n",
      "Installing collected packages: analiza-zaleznosci\n",
      "  Attempting uninstall: analiza-zaleznosci\n",
      "    Found existing installation: analiza-zaleznosci 0.0.0\n",
      "    Uninstalling analiza-zaleznosci-0.0.0:\n",
      "      Successfully uninstalled analiza-zaleznosci-0.0.0\n",
      "Successfully installed analiza-zaleznosci-0.0.0\n",
      "Note: you may need to restart the kernel to use updated packages.\n"
     ]
    }
   ],
   "source": [
    "pip install ./src"
   ]
  },
  {
   "cell_type": "code",
   "execution_count": 3,
   "id": "025d0f93",
   "metadata": {},
   "outputs": [],
   "source": [
    "p1 = '/home/jedrek/Desktop/Studia/ND/FinalAssignment/data_files/API_NY.GDP.MKTP.CD_DS2_en_csv_v2_4751562.csv' \n",
    "p2 = '/home/jedrek/Desktop/Studia/ND/FinalAssignment/data_files/API_SP.POP.TOTL_DS2_en_csv_v2_4751604.csv' \n",
    "p3 = '/home/jedrek/Desktop/Studia/ND/FinalAssignment/data_files/data/fossil-fuel-co2-emissions-by-nation_csv.csv' "
   ]
  },
  {
   "cell_type": "code",
   "execution_count": 4,
   "id": "42df2a86",
   "metadata": {},
   "outputs": [],
   "source": [
    "from analiza import wczytaj_formatuj"
   ]
  },
  {
   "cell_type": "code",
   "execution_count": 10,
   "id": "80f35155",
   "metadata": {},
   "outputs": [],
   "source": [
    "df = wczytaj_formatuj(p1, p2, p3, 1960, 2010)"
   ]
  },
  {
   "cell_type": "code",
   "execution_count": 11,
   "id": "fd002436",
   "metadata": {
    "scrolled": true
   },
   "outputs": [
    {
     "name": "stdout",
     "output_type": "stream",
     "text": [
      "                   Country  Year           GDP  Population   Total\n",
      "0              AFGHANISTAN  1960  5.377778e+08   8996967.0     113\n",
      "1                   ANGOLA  1960           NaN   5454938.0     150\n",
      "2                  ALBANIA  1960           NaN   1608800.0     552\n",
      "3     UNITED ARAB EMIRATES  1960           NaN     92417.0       3\n",
      "4                ARGENTINA  1960           NaN  20481781.0   13312\n",
      "...                    ...   ...           ...         ...     ...\n",
      "8388                 SAMOA  2010  6.631615e+08    185944.0      51\n",
      "8389           YEMEN, REP.  2010  3.090675e+10  23154854.0    6390\n",
      "8390          SOUTH AFRICA  2010  4.173651e+11  51216967.0  129288\n",
      "8391                ZAMBIA  2010  2.026556e+10  13605986.0     734\n",
      "8392              ZIMBABWE  2010  1.204166e+10  12697728.0    2121\n",
      "\n",
      "[8393 rows x 5 columns]\n"
     ]
    }
   ],
   "source": [
    "#Tabelka danych po wczytaniu i przygotowaniu do wywoloywania funckji\n",
    "print( df )"
   ]
  },
  {
   "cell_type": "code",
   "execution_count": 8,
   "id": "298cb7cd",
   "metadata": {},
   "outputs": [],
   "source": [
    "from analiza import CO2_na_mieszkanca\n",
    "from analiza import GDP_na_mieszkanca\n",
    "from analiza import zmiana_emisji"
   ]
  },
  {
   "cell_type": "code",
   "execution_count": 14,
   "id": "41ca1085",
   "metadata": {},
   "outputs": [
    {
     "name": "stdout",
     "output_type": "stream",
     "text": [
      "   Average Emission  Year                   Country  Total Emission\n",
      "1          0.007910  1960                    KUWAIT            2128\n",
      "2          0.004363  1960  UNITED STATES OF AMERICA          788300\n",
      "3          0.003041  1960            UNITED KINGDOM          159340\n",
      "4          0.002975  1960             NEW CALEDONIA             235\n",
      "5          0.009976  1961                LUXEMBOURG            3161\n",
      "6          0.009056  1961                    KUWAIT            2722\n",
      "7          0.004276  1961  UNITED STATES OF AMERICA          785521\n",
      "8          0.003042  1961            UNITED KINGDOM          160605\n",
      "9          0.002980  1961             NEW CALEDONIA             242\n"
     ]
    }
   ],
   "source": [
    "df_CO2 = CO2_na_mieszkanca(df)\n",
    "print( df_CO2 )"
   ]
  },
  {
   "cell_type": "code",
   "execution_count": 15,
   "id": "90c658dd",
   "metadata": {},
   "outputs": [
    {
     "name": "stdout",
     "output_type": "stream",
     "text": [
      "     GDP per capita  Year                   Country           GDP\n",
      "0       3007.123445  1960  UNITED STATES OF AMERICA  5.433000e+11\n",
      "1       2312.949992  1960               NEW ZEALAND  5.485855e+09\n",
      "2       2259.294285  1960                    CANADA  4.046172e+10\n",
      "3       2242.015817  1960                LUXEMBOURG  7.039257e+08\n",
      "4       2114.002973  1960                    SWEDEN  1.582259e+10\n",
      "..              ...   ...                       ...           ...\n",
      "250   141192.534673  2010             LIECHTENSTEIN  5.082366e+09\n",
      "251   110885.991379  2010                LUXEMBOURG  5.621399e+10\n",
      "252   101875.284073  2010                   BERMUDA  6.634526e+09\n",
      "253    87693.790066  2010                    NORWAY  4.287570e+11\n",
      "254    77117.126014  2010               SWITZERLAND  6.034345e+11\n",
      "\n",
      "[255 rows x 4 columns]\n"
     ]
    }
   ],
   "source": [
    "df_GDP = GDP_na_mieszkanca(df)\n",
    "print( df_GDP )"
   ]
  },
  {
   "cell_type": "code",
   "execution_count": 27,
   "id": "55c9cd61",
   "metadata": {},
   "outputs": [
    {
     "name": "stdout",
     "output_type": "stream",
     "text": [
      "                  Country  ...  Average Diff\n",
      "142                 QATAR  ...     -0.007704\n",
      "5    UNITED ARAB EMIRATES  ...     -0.003245\n",
      "129                 NAURU  ...     -0.000954\n",
      "59          FAROE ISLANDS  ...     -0.000828\n",
      "158            SEYCHELLES  ...     -0.000783\n",
      "\n",
      "[5 rows x 4 columns]\n",
      "                 Country  ...  Average Diff\n",
      "167  TRINIDAD AND TOBAGO  ...      0.004190\n",
      "26     BRUNEI DARUSSALAM  ...      0.002142\n",
      "131                 OMAN  ...      0.001841\n",
      "90            KAZAKHSTAN  ...      0.001733\n",
      "122        NEW CALEDONIA  ...      0.001498\n",
      "\n",
      "[5 rows x 4 columns]\n"
     ]
    }
   ],
   "source": [
    "df_zmiana = zmiana_emisji(df)\n",
    "#top 5 krajow, ktore najbardziej zwiekszyly emisje\n",
    "print( df_zmiana.sort_values(by = 'Average Diff')[:5] )\n",
    "#top 5 krajow, ktore najbardziej zmniejszyly emisje\n",
    "print( df_zmiana.sort_values(by = 'Average Diff', ascending = False)[:5] )"
   ]
  }
 ],
 "metadata": {
  "kernelspec": {
   "display_name": "Python 3 (ipykernel)",
   "language": "python",
   "name": "python3"
  },
  "language_info": {
   "codemirror_mode": {
    "name": "ipython",
    "version": 3
   },
   "file_extension": ".py",
   "mimetype": "text/x-python",
   "name": "python",
   "nbconvert_exporter": "python",
   "pygments_lexer": "ipython3",
   "version": "3.8.10"
  }
 },
 "nbformat": 4,
 "nbformat_minor": 5
}
